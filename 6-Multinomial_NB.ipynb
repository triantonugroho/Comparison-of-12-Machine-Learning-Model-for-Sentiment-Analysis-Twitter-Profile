{
 "cells": [
  {
   "cell_type": "code",
   "execution_count": 1,
   "id": "b5ba4bd0",
   "metadata": {},
   "outputs": [
    {
     "data": {
      "text/plain": [
       "{'classifier': MultinomialNB(alpha=10), 'classifier__alpha': 10}"
      ]
     },
     "execution_count": 1,
     "metadata": {},
     "output_type": "execute_result"
    }
   ],
   "source": [
    "import numpy as np\n",
    "import pandas as pd\n",
    "import seaborn as sns\n",
    "import matplotlib.pyplot as plt\n",
    "from sklearn.model_selection import train_test_split\n",
    "from sklearn.metrics import confusion_matrix, classification_report, accuracy_score, precision_score, recall_score, roc_auc_score\n",
    "from sklearn.model_selection import GridSearchCV\n",
    "from sklearn.pipeline import Pipeline\n",
    "from sklearn.naive_bayes import MultinomialNB\n",
    "import re\n",
    "from keras.preprocessing.text import Tokenizer\n",
    "from keras_preprocessing.sequence import pad_sequences\n",
    "from statistics import mode\n",
    "\n",
    "def toSentence(list_words): # Convert list of words into sentence\n",
    "        sentence = ' '.join(word for word in list_words)\n",
    "        return sentence\n",
    "\n",
    "data = pd.read_csv(\"labelled2.csv\")\n",
    "X = data['text_preprocessed'].apply(toSentence) \n",
    "max_features = 5000 \n",
    "tokenizer = Tokenizer(num_words=max_features, split=' ')\n",
    "tokenizer.fit_on_texts(X.values)\n",
    "X = tokenizer.texts_to_sequences(X.values)\n",
    "X = pad_sequences(X)\n",
    "polarity_encode = {0 : -1, 1 : 1}\n",
    "y = data['sentiment'].map(polarity_encode)\n",
    "X_train, X_test, y_train, y_test = train_test_split(X, y, test_size = 0.2, random_state = 0)\n",
    "\n",
    "clf6 = MultinomialNB()\n",
    "param6 = {}\n",
    "param6['classifier__alpha'] = [10**0, 10**1, 10**2]\n",
    "param6['classifier'] = [clf6]\n",
    "\n",
    "pipeline = Pipeline([('classifier', clf6)])\n",
    "params = [param6]\n",
    "gs = GridSearchCV(pipeline, params, cv=3, n_jobs=-1, scoring='accuracy').fit(X_train, y_train)\n",
    "gs.best_params_"
   ]
  },
  {
   "cell_type": "code",
   "execution_count": 2,
   "id": "7089220d",
   "metadata": {},
   "outputs": [
    {
     "name": "stdout",
     "output_type": "stream",
     "text": [
      "Prediksi :  [ 1  1  1 -1 -1  1 -1 -1 -1 -1 -1 -1 -1 -1 -1  1 -1  1  1 -1 -1 -1 -1  1\n",
      " -1 -1 -1  1 -1 -1  1 -1 -1 -1  1 -1 -1 -1 -1 -1 -1  1 -1  1 -1  1  1 -1\n",
      "  1 -1 -1 -1  1 -1 -1  1 -1 -1  1 -1 -1  1  1 -1 -1  1 -1 -1  1 -1 -1 -1\n",
      " -1  1 -1  1 -1  1  1 -1  1  1 -1  1  1  1 -1  1 -1 -1 -1 -1 -1  1 -1  1\n",
      " -1  1 -1 -1 -1 -1 -1  1 -1 -1 -1 -1 -1 -1 -1 -1  1 -1 -1 -1  1  1 -1 -1\n",
      " -1 -1 -1  1 -1 -1  1 -1  1 -1  1 -1  1 -1 -1 -1  1 -1 -1 -1 -1  1 -1 -1\n",
      " -1  1 -1  1 -1  1 -1 -1 -1 -1  1 -1  1  1 -1  1  1 -1 -1  1 -1  1 -1 -1\n",
      " -1  1  1 -1  1  1  1 -1  1  1  1  1 -1 -1 -1 -1  1 -1 -1 -1 -1 -1 -1  1\n",
      " -1 -1  1 -1 -1  1  1 -1 -1 -1  1  1 -1  1 -1 -1 -1 -1 -1 -1 -1 -1 -1  1\n",
      " -1  1 -1  1 -1 -1 -1  1 -1  1  1 -1 -1 -1 -1  1  1  1  1 -1  1  1  1 -1\n",
      " -1 -1 -1 -1  1 -1 -1 -1 -1 -1  1 -1 -1  1 -1 -1 -1 -1 -1  1 -1  1 -1 -1\n",
      "  1 -1  1 -1 -1  1  1 -1 -1  1  1  1 -1 -1 -1  1  1  1  1 -1 -1  1 -1  1\n",
      " -1 -1  1 -1 -1 -1  1  1 -1  1 -1  1 -1 -1  1 -1 -1 -1 -1  1 -1 -1 -1 -1\n",
      " -1 -1 -1  1 -1  1 -1 -1 -1 -1 -1  1 -1 -1 -1 -1 -1  1 -1 -1  1 -1 -1 -1\n",
      " -1  1  1  1 -1  1  1 -1  1 -1 -1  1 -1 -1  1 -1  1  1 -1  1 -1  1  1 -1\n",
      " -1  1 -1 -1 -1  1 -1 -1 -1 -1  1 -1  1  1  1 -1  1 -1 -1 -1 -1 -1 -1 -1\n",
      "  1  1 -1 -1 -1 -1 -1 -1 -1 -1  1  1 -1  1 -1 -1  1 -1 -1 -1 -1 -1 -1 -1\n",
      " -1 -1 -1  1  1 -1  1 -1  1 -1 -1 -1  1 -1  1 -1 -1 -1 -1  1  1 -1  1 -1\n",
      " -1 -1 -1 -1  1  1 -1 -1 -1  1 -1  1 -1  1 -1 -1 -1 -1  1 -1 -1  1 -1  1\n",
      " -1 -1 -1 -1 -1  1  1 -1  1 -1 -1  1 -1 -1 -1 -1 -1 -1 -1  1 -1  1  1  1\n",
      " -1 -1 -1 -1 -1 -1  1 -1  1  1 -1 -1 -1 -1 -1 -1  1  1 -1 -1  1 -1  1  1\n",
      " -1 -1 -1 -1 -1 -1 -1  1  1 -1 -1 -1 -1 -1  1 -1  1 -1 -1 -1  1 -1 -1  1\n",
      "  1 -1  1  1  1 -1 -1 -1 -1 -1  1  1  1  1  1 -1  1 -1  1  1  1 -1 -1 -1\n",
      " -1 -1  1 -1 -1 -1 -1 -1 -1 -1  1  1 -1  1 -1 -1 -1 -1  1 -1  1 -1 -1  1\n",
      " -1  1  1 -1 -1  1 -1  1 -1  1  1  1 -1  1 -1  1 -1  1 -1 -1  1 -1  1  1\n",
      "  1  1  1 -1 -1  1 -1 -1 -1 -1  1  1 -1 -1  1 -1 -1  1 -1 -1 -1  1 -1 -1\n",
      " -1  1  1 -1 -1  1 -1  1 -1  1 -1 -1 -1 -1 -1  1 -1 -1  1 -1  1 -1  1  1\n",
      " -1 -1 -1 -1 -1  1  1  1 -1 -1 -1 -1  1  1 -1 -1 -1 -1  1  1 -1 -1 -1 -1\n",
      " -1  1 -1 -1 -1 -1 -1  1 -1 -1 -1 -1  1 -1 -1 -1 -1 -1 -1 -1  1 -1 -1 -1\n",
      " -1  1 -1 -1 -1 -1 -1  1 -1 -1 -1 -1 -1 -1 -1  1  1  1  1 -1 -1  1  1  1\n",
      " -1 -1 -1 -1 -1  1 -1  1 -1  1 -1 -1  1 -1  1 -1 -1 -1 -1 -1  1 -1 -1 -1\n",
      " -1  1  1  1  1 -1 -1 -1 -1  1  1  1  1 -1  1 -1 -1 -1 -1 -1  1 -1 -1 -1\n",
      " -1 -1  1 -1  1  1  1 -1 -1 -1]\n",
      "Hasil Prediksi:  Username is Negative\n"
     ]
    }
   ],
   "source": [
    "predictions = gs.predict(X_test)\n",
    "\n",
    "if mode(predictions) == -1:\n",
    "    hasil_prediksi = \"Username is Negative\"\n",
    "elif mode(predictions) == 1:\n",
    "    hasil_prediksi = \"Username is Positive\"\n",
    "\n",
    "print(\"Prediksi : \",predictions)\n",
    "print(\"Hasil Prediksi: \",hasil_prediksi)"
   ]
  },
  {
   "cell_type": "code",
   "execution_count": 3,
   "id": "7ae28666",
   "metadata": {},
   "outputs": [
    {
     "name": "stdout",
     "output_type": "stream",
     "text": [
      "Test Accuracy Score: 0.5539845758354756\n",
      "Test Precision: 0.4051948051948052\n",
      "Test Recall: 0.5693430656934306\n",
      "Test ROC AUC Score: 0.5574889931641757\n"
     ]
    }
   ],
   "source": [
    "print(\"Test Accuracy Score:\",accuracy_score(gs.predict(X_test), y_test))\n",
    "print(\"Test Precision:\",precision_score(gs.predict(X_test), y_test))\n",
    "print(\"Test Recall:\",recall_score(gs.predict(X_test), y_test))\n",
    "print(\"Test ROC AUC Score:\",roc_auc_score(gs.predict(X_test), y_test))"
   ]
  },
  {
   "cell_type": "code",
   "execution_count": 4,
   "id": "6629a44e",
   "metadata": {},
   "outputs": [
    {
     "name": "stdout",
     "output_type": "stream",
     "text": [
      "              precision    recall  f1-score   support\n",
      "\n",
      "          -1       0.55      0.70      0.61       393\n",
      "           1       0.57      0.41      0.47       385\n",
      "\n",
      "    accuracy                           0.55       778\n",
      "   macro avg       0.56      0.55      0.54       778\n",
      "weighted avg       0.56      0.55      0.54       778\n",
      "\n"
     ]
    }
   ],
   "source": [
    "print(classification_report(y_test, predictions))"
   ]
  },
  {
   "cell_type": "code",
   "execution_count": 5,
   "id": "3015cdbe",
   "metadata": {},
   "outputs": [
    {
     "data": {
      "text/plain": [
       "Text(0.5, 1.0, 'Confusion Matrix')"
      ]
     },
     "execution_count": 5,
     "metadata": {},
     "output_type": "execute_result"
    },
    {
     "data": {
      "image/png": "[encoded data removed]",
      "text/plain": [
       "<Figure size 432x288 with 2 Axes>"
      ]
     },
     "metadata": {
      "needs_background": "light"
     },
     "output_type": "display_data"
    }
   ],
   "source": [
    "cf_matrix = confusion_matrix(y_test, predictions)\n",
    "sns.heatmap(cf_matrix, annot=True, \n",
    "    xticklabels=[-1,1], \n",
    "    yticklabels=[-1,1],\n",
    "    fmt=\".0f\")\n",
    "plt.xlabel(\"Predicted\")\n",
    "plt.ylabel(\"Actual\")\n",
    "plt.title(\"Confusion Matrix\")"
   ]
  }
 ],
 "metadata": {
  "kernelspec": {
   "display_name": "Python 3.9.12",
   "language": "python",
   "name": "python3"
  },
  "language_info": {
   "codemirror_mode": {
    "name": "ipython",
    "version": 3
   },
   "file_extension": ".py",
   "mimetype": "text/x-python",
   "name": "python",
   "nbconvert_exporter": "python",
   "pygments_lexer": "ipython3",
   "version": "3.9.12"
  },
  "vscode": {
   "interpreter": {
    "hash": "88279d2366fe020547cde40dd65aa0e3aa662a6ec1f3ca12d88834876c85e1a6"
   }
  }
 },
 "nbformat": 4,
 "nbformat_minor": 5
}
