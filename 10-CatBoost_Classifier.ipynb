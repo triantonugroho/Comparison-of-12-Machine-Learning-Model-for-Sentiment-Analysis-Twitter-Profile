{
 "cells": [
  {
   "cell_type": "code",
   "execution_count": 1,
   "id": "b5ba4bd0",
   "metadata": {},
   "outputs": [
    {
     "name": "stdout",
     "output_type": "stream",
     "text": [
      "0:\tlearn: 0.6908894\ttotal: 192ms\tremaining: 3.65s\n",
      "1:\tlearn: 0.6880775\ttotal: 242ms\tremaining: 2.18s\n",
      "2:\tlearn: 0.6855514\ttotal: 295ms\tremaining: 1.67s\n",
      "3:\tlearn: 0.6827906\ttotal: 350ms\tremaining: 1.4s\n",
      "4:\tlearn: 0.6808892\ttotal: 407ms\tremaining: 1.22s\n",
      "5:\tlearn: 0.6779216\ttotal: 472ms\tremaining: 1.1s\n",
      "6:\tlearn: 0.6740301\ttotal: 531ms\tremaining: 986ms\n",
      "7:\tlearn: 0.6716499\ttotal: 594ms\tremaining: 891ms\n",
      "8:\tlearn: 0.6691739\ttotal: 664ms\tremaining: 811ms\n",
      "9:\tlearn: 0.6649133\ttotal: 727ms\tremaining: 727ms\n",
      "10:\tlearn: 0.6613765\ttotal: 789ms\tremaining: 645ms\n",
      "11:\tlearn: 0.6598541\ttotal: 850ms\tremaining: 567ms\n",
      "12:\tlearn: 0.6579997\ttotal: 911ms\tremaining: 491ms\n",
      "13:\tlearn: 0.6525220\ttotal: 978ms\tremaining: 419ms\n",
      "14:\tlearn: 0.6496635\ttotal: 1.04s\tremaining: 347ms\n",
      "15:\tlearn: 0.6469967\ttotal: 1.1s\tremaining: 276ms\n",
      "16:\tlearn: 0.6437162\ttotal: 1.18s\tremaining: 207ms\n",
      "17:\tlearn: 0.6409207\ttotal: 1.25s\tremaining: 138ms\n",
      "18:\tlearn: 0.6384474\ttotal: 1.31s\tremaining: 69.1ms\n",
      "19:\tlearn: 0.6365028\ttotal: 1.38s\tremaining: 0us\n"
     ]
    },
    {
     "data": {
      "text/plain": [
       "{'depth': 10, 'iterations': 20, 'learning_rate': 0.02}"
      ]
     },
     "execution_count": 1,
     "metadata": {},
     "output_type": "execute_result"
    }
   ],
   "source": [
    "import numpy as np\n",
    "import pandas as pd\n",
    "import seaborn as sns\n",
    "import matplotlib.pyplot as plt\n",
    "from sklearn.model_selection import train_test_split\n",
    "from sklearn.metrics import confusion_matrix, classification_report, accuracy_score, precision_score, recall_score, roc_auc_score\n",
    "from sklearn.model_selection import GridSearchCV\n",
    "from sklearn.pipeline import Pipeline\n",
    "from catboost import CatBoostClassifier\n",
    "import re\n",
    "from keras.preprocessing.text import Tokenizer\n",
    "from keras_preprocessing.sequence import pad_sequences\n",
    "from statistics import mode\n",
    "\n",
    "def toSentence(list_words): # Convert list of words into sentence\n",
    "        sentence = ' '.join(word for word in list_words)\n",
    "        return sentence\n",
    "\n",
    "data = pd.read_csv(\"labelled2.csv\")\n",
    "X = data['text_preprocessed'].apply(toSentence) \n",
    "max_features = 5000 \n",
    "tokenizer = Tokenizer(num_words=max_features, split=' ')\n",
    "tokenizer.fit_on_texts(X.values)\n",
    "X = tokenizer.texts_to_sequences(X.values)\n",
    "X = pad_sequences(X)\n",
    "polarity_encode = {0 : -1, 1 : 1}\n",
    "y = data['sentiment'].map(polarity_encode)\n",
    "X_train, X_test, y_train, y_test = train_test_split(X, y, test_size = 0.2, random_state = 0)\n",
    "\n",
    "clf10 = CatBoostClassifier(random_state=42)\n",
    "param10 = {}\n",
    "param10['depth'] = [4,5,6,7,8,9, 10]\n",
    "param10['learning_rate'] = [0.01,0.02,0.03,0.04]\n",
    "param10['iterations'] = [10, 20,30,40,50,60,70,80,90, 100]\n",
    "\n",
    "params = [param10]\n",
    "gs = GridSearchCV(clf10, params, cv=3, n_jobs=-1, scoring='accuracy').fit(X_train, y_train)\n",
    "gs.best_params_"
   ]
  },
  {
   "cell_type": "code",
   "execution_count": 2,
   "id": "7089220d",
   "metadata": {},
   "outputs": [
    {
     "name": "stdout",
     "output_type": "stream",
     "text": [
      "Prediksi :  [-1  1  1 -1 -1  1 -1  1 -1  1 -1  1  1 -1 -1  1  1  1 -1  1  1 -1 -1  1\n",
      "  1 -1 -1  1  1  1 -1 -1 -1  1  1 -1  1 -1  1 -1  1  1 -1  1 -1  1  1 -1\n",
      "  1 -1  1 -1  1  1 -1  1 -1  1  1 -1 -1 -1 -1 -1 -1 -1 -1 -1  1 -1 -1 -1\n",
      " -1  1 -1  1 -1  1  1 -1  1  1 -1  1  1  1  1 -1 -1 -1 -1 -1 -1  1 -1 -1\n",
      "  1  1  1  1 -1 -1 -1  1 -1  1 -1 -1 -1 -1 -1 -1  1 -1 -1 -1  1  1 -1 -1\n",
      " -1 -1 -1 -1  1 -1  1  1  1 -1 -1 -1  1 -1  1 -1 -1 -1 -1 -1 -1  1 -1 -1\n",
      "  1  1  1  1 -1  1 -1  1 -1 -1  1 -1  1  1 -1  1  1 -1  1 -1 -1  1  1 -1\n",
      " -1 -1  1  1  1 -1  1 -1  1  1  1  1 -1 -1 -1 -1  1 -1 -1 -1 -1 -1 -1  1\n",
      "  1 -1  1 -1 -1  1 -1 -1 -1 -1  1 -1  1  1 -1 -1 -1  1 -1 -1 -1  1 -1 -1\n",
      "  1  1  1  1 -1 -1 -1 -1 -1  1  1 -1 -1 -1  1 -1  1  1  1 -1  1  1  1  1\n",
      "  1 -1 -1 -1  1 -1 -1  1 -1  1  1 -1  1  1  1 -1 -1 -1 -1 -1 -1  1  1 -1\n",
      "  1 -1  1 -1 -1  1  1 -1 -1 -1 -1 -1 -1  1  1  1  1  1 -1  1 -1  1 -1  1\n",
      " -1 -1 -1  1 -1 -1  1  1  1  1 -1  1  1  1  1 -1 -1 -1  1  1 -1  1 -1 -1\n",
      " -1  1 -1  1 -1  1 -1 -1 -1 -1 -1  1 -1  1 -1 -1 -1  1 -1 -1  1 -1 -1 -1\n",
      " -1  1  1  1 -1  1 -1 -1 -1 -1 -1  1 -1  1  1  1  1  1 -1  1 -1  1  1 -1\n",
      " -1  1 -1 -1 -1  1 -1  1 -1  1 -1 -1  1  1  1 -1  1 -1  1 -1 -1 -1 -1  1\n",
      "  1  1 -1 -1  1 -1 -1  1  1 -1  1  1 -1  1  1 -1  1 -1 -1  1 -1  1  1 -1\n",
      " -1 -1  1  1  1 -1  1 -1  1 -1 -1  1  1 -1  1 -1 -1 -1 -1  1  1 -1  1 -1\n",
      "  1 -1  1 -1 -1  1 -1  1 -1  1  1  1  1  1  1 -1  1  1  1 -1  1  1 -1  1\n",
      "  1 -1 -1 -1 -1  1  1 -1  1 -1 -1  1  1 -1 -1 -1  1 -1 -1  1 -1  1  1  1\n",
      " -1  1 -1 -1 -1 -1  1 -1  1  1 -1 -1 -1 -1 -1  1  1  1  1 -1 -1 -1  1  1\n",
      " -1 -1 -1  1 -1 -1 -1  1  1 -1  1 -1 -1 -1  1 -1 -1 -1  1 -1  1 -1 -1 -1\n",
      "  1  1  1  1  1  1 -1 -1  1 -1  1  1 -1 -1  1 -1  1 -1 -1 -1  1 -1 -1 -1\n",
      "  1 -1  1 -1  1 -1  1 -1 -1 -1  1  1 -1 -1  1 -1 -1  1  1 -1  1  1  1  1\n",
      " -1  1  1 -1 -1  1  1  1 -1  1  1  1 -1  1  1  1 -1  1 -1 -1  1  1  1  1\n",
      "  1  1 -1 -1  1  1 -1 -1 -1 -1  1  1 -1  1  1 -1  1  1  1 -1  1  1 -1 -1\n",
      "  1 -1  1 -1 -1  1 -1  1  1 -1 -1 -1  1 -1 -1  1  1  1 -1 -1  1  1  1  1\n",
      "  1 -1  1 -1  1  1  1  1 -1  1 -1 -1 -1 -1 -1  1  1  1 -1  1 -1 -1  1 -1\n",
      "  1  1  1 -1  1  1  1 -1 -1 -1 -1 -1  1  1  1  1 -1  1  1  1  1  1 -1 -1\n",
      "  1  1 -1  1  1 -1 -1  1 -1 -1 -1 -1 -1 -1 -1  1  1  1 -1 -1 -1  1  1  1\n",
      "  1 -1 -1 -1 -1  1 -1  1 -1  1 -1  1  1 -1 -1 -1  1 -1 -1  1  1  1 -1 -1\n",
      "  1  1 -1  1  1  1 -1 -1 -1  1  1  1  1 -1  1 -1 -1 -1 -1 -1  1 -1 -1  1\n",
      " -1  1  1 -1  1  1  1 -1  1 -1]\n",
      "Hasil Prediksi:  Username is Negative\n"
     ]
    }
   ],
   "source": [
    "predictions = gs.predict(X_test)\n",
    "\n",
    "if mode(predictions) == -1:\n",
    "    hasil_prediksi = \"Username is Negative\"\n",
    "elif mode(predictions) == 1:\n",
    "    hasil_prediksi = \"Username is Positive\"\n",
    "\n",
    "print(\"Prediksi : \",predictions)\n",
    "print(\"Hasil Prediksi: \",hasil_prediksi)"
   ]
  },
  {
   "cell_type": "code",
   "execution_count": 3,
   "id": "7ae28666",
   "metadata": {},
   "outputs": [
    {
     "name": "stdout",
     "output_type": "stream",
     "text": [
      "Test Accuracy Score: 0.6336760925449871\n",
      "Test Precision: 0.612987012987013\n",
      "Test Recall: 0.6344086021505376\n",
      "Test ROC AUC Score: 0.6337067641294559\n"
     ]
    }
   ],
   "source": [
    "print(\"Test Accuracy Score:\",accuracy_score(gs.predict(X_test), y_test))\n",
    "print(\"Test Precision:\",precision_score(gs.predict(X_test), y_test))\n",
    "print(\"Test Recall:\",recall_score(gs.predict(X_test), y_test))\n",
    "print(\"Test ROC AUC Score:\",roc_auc_score(gs.predict(X_test), y_test))"
   ]
  },
  {
   "cell_type": "code",
   "execution_count": 4,
   "id": "6629a44e",
   "metadata": {},
   "outputs": [
    {
     "name": "stdout",
     "output_type": "stream",
     "text": [
      "              precision    recall  f1-score   support\n",
      "\n",
      "          -1       0.63      0.65      0.64       393\n",
      "           1       0.63      0.61      0.62       385\n",
      "\n",
      "    accuracy                           0.63       778\n",
      "   macro avg       0.63      0.63      0.63       778\n",
      "weighted avg       0.63      0.63      0.63       778\n",
      "\n"
     ]
    }
   ],
   "source": [
    "print(classification_report(y_test, predictions))"
   ]
  },
  {
   "cell_type": "code",
   "execution_count": 5,
   "id": "3015cdbe",
   "metadata": {},
   "outputs": [
    {
     "data": {
      "text/plain": [
       "Text(0.5, 1.0, 'Confusion Matrix')"
      ]
     },
     "execution_count": 5,
     "metadata": {},
     "output_type": "execute_result"
    },
    {
     "data": {
      "image/png": "[encoded data removed]",
      "text/plain": [
       "<Figure size 432x288 with 2 Axes>"
      ]
     },
     "metadata": {
      "needs_background": "light"
     },
     "output_type": "display_data"
    }
   ],
   "source": [
    "cf_matrix = confusion_matrix(y_test, predictions)\n",
    "sns.heatmap(cf_matrix, annot=True, \n",
    "    xticklabels=[-1,1], \n",
    "    yticklabels=[-1,1],\n",
    "    fmt=\".0f\")\n",
    "plt.xlabel(\"Predicted\")\n",
    "plt.ylabel(\"Actual\")\n",
    "plt.title(\"Confusion Matrix\")"
   ]
  }
 ],
 "metadata": {
  "kernelspec": {
   "display_name": "Python 3.9.12",
   "language": "python",
   "name": "python3"
  },
  "language_info": {
   "codemirror_mode": {
    "name": "ipython",
    "version": 3
   },
   "file_extension": ".py",
   "mimetype": "text/x-python",
   "name": "python",
   "nbconvert_exporter": "python",
   "pygments_lexer": "ipython3",
   "version": "3.9.12"
  },
  "vscode": {
   "interpreter": {
    "hash": "88279d2366fe020547cde40dd65aa0e3aa662a6ec1f3ca12d88834876c85e1a6"
   }
  }
 },
 "nbformat": 4,
 "nbformat_minor": 5
}
